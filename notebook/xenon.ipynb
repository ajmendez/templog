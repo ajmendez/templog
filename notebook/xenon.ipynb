{
 "metadata": {
  "name": "",
  "signature": "sha256:8cd2782cf1cd2ed24ccced2c1890cfae0bda8165ff2f5df567fa9be3cd25323a"
 },
 "nbformat": 3,
 "nbformat_minor": 0,
 "worksheets": [
  {
   "cells": [
    {
     "cell_type": "code",
     "collapsed": false,
     "input": [
      "import os\n",
      "import sys\n",
      "import json\n",
      "import pylab\n",
      "import numpy as np\n",
      "import matplotlib.ticker\n",
      "from dateutil import parser\n",
      "from scipy import interpolate\n",
      "from matplotlib.dates import date2num\n",
      "from datetime import timedelta, datetime\n",
      "from pysurvey.plot import (setup, dateticks, minmax, hcolorbar, line, embiggen, icolorbar)"
     ],
     "language": "python",
     "metadata": {},
     "outputs": [],
     "prompt_number": 6
    },
    {
     "cell_type": "code",
     "collapsed": false,
     "input": [
      "%%bash\n",
      "\n",
      "#rsync -ravpP aether:.temperature.xenon.log ~/\n",
      "#rsync -ravpP xenon:.temperature.xenon.log ~/\n",
      "rsync -ravpP xenon:.temperature.xenon.log ~/\n",
      "rsync -ravpP xenon:.uptime.xenon.log ~/"
     ],
     "language": "python",
     "metadata": {},
     "outputs": [
      {
       "output_type": "stream",
       "stream": "stdout",
       "text": [
        "receiving file list ... \n",
        "1 file to consider\n",
        ".temperature.xenon.log\n",
        "           0   0%    0.00kB/s    0:00:00\r",
        "    10105835 100%   18.18MB/s    0:00:00 (xfer#1, to-check=0/1)\n",
        "\n",
        "sent 19128 bytes  received 19012 bytes  25426.67 bytes/sec\n",
        "total size is 10105835  speedup is 264.97\n",
        "receiving file list ... \n",
        "1 file to consider\n",
        ".uptime.xenon.log\n",
        "           0   0%    0.00kB/s    0:00:00\r",
        "     1904022 100%   34.92MB/s    0:00:00 (xfer#1, to-check=0/1)\n",
        "\n",
        "sent 8346 bytes  received 6678 bytes  10016.00 bytes/sec\n",
        "total size is 1904022  speedup is 126.73\n"
       ]
      }
     ],
     "prompt_number": 7
    },
    {
     "cell_type": "code",
     "collapsed": false,
     "input": [
      "FILENAME = os.path.expanduser('~/.temperature.xenon.log')\n",
      "SEP = ' | '\n",
      "YR = [5,60]\n",
      "TNORM = 15"
     ],
     "language": "python",
     "metadata": {},
     "outputs": [],
     "prompt_number": 8
    },
    {
     "cell_type": "code",
     "collapsed": false,
     "input": [
      "\n",
      "def read_temps(filename=FILENAME):\n",
      "    out = []\n",
      "    with open(filename, 'r') as f:\n",
      "        lines = f.readlines()\n",
      "        for line in lines:\n",
      "            if 'Killed' in line:\n",
      "                continue\n",
      "            items = line.split(SEP)\n",
      "            try:\n",
      "                out.append(dict(date=parser.parse(items[1]),\n",
      "                                temperature=float(items[2])/1000.0))\n",
      "            except Exception as e:\n",
      "                print e\n",
      "                print items\n",
      "                raise\n",
      "    return out\n",
      "data = read_temps()\n",
      "print len(data)"
     ],
     "language": "python",
     "metadata": {},
     "outputs": [
      {
       "output_type": "stream",
       "stream": "stdout",
       "text": [
        "157898\n"
       ]
      }
     ]
    },
    {
     "cell_type": "code",
     "collapsed": false,
     "input": [
      "def get_continuum(dates, x, y, delta=2):\n",
      "    out = []\n",
      "    t = timedelta(hours=delta)\n",
      "    for d in dates:\n",
      "        ii = np.where( (date2num(x) >  date2num(d-t) ) &\n",
      "                       (date2num(x) <= date2num(d+t) ) )[0]\n",
      "        if len(ii) <= 20:\n",
      "            out.append(-1)\n",
      "        else:\n",
      "            out.append( np.mean(y[ii]) )\n",
      "    \n",
      "    \n",
      "    t = date2num(dates)\n",
      "    n = np.min(t)\n",
      "    tmp = np.array(out)\n",
      "    ii = np.where(tmp > 0)\n",
      "    f = interpolate.UnivariateSpline(date2num(dates[ii])-n,tmp[ii], s=4)\n",
      "    return f(t-n)\n",
      "\n",
      "def get_continuum(dates, x, y, delta=5):\n",
      "    out = []\n",
      "#     t = timedelta(hours=delta)\n",
      "    tmp = date2num(x)\n",
      "    nd = date2num(dates)\n",
      "    for d in nd:\n",
      "        t = np.abs(tmp-d)\n",
      "        ii = np.where( t < delta/24.0)[0]\n",
      "        if len(ii) <= 20:\n",
      "            out.append(-1)\n",
      "        else:\n",
      "            out.append( np.mean(y[ii]) )\n",
      "#             out.append(np.min(y[ii]))\n",
      "#     return np.array(out)\n",
      "    \n",
      "    tmp = np.array(out)\n",
      "    n = np.min(nd)\n",
      "    ii = np.where(tmp > 0)\n",
      "    f = interpolate.UnivariateSpline(nd[ii]-n,tmp[ii], s=4)\n",
      "    return f(nd-n)\n",
      "\n",
      "    \n",
      "\n",
      "\n",
      "\n",
      "dates, values = map(np.array, zip(*[(d['date'], d['temperature'])\n",
      "                                    for d in data]))\n",
      "ndates = date2num(dates)\n",
      "tmp = (ndates % 1.0)*24.0\n",
      "ii = np.where((tmp > 0) & (tmp < 8))[0]\n",
      "continuum = get_continuum(dates, dates[ii], values[ii])"
     ],
     "language": "python",
     "metadata": {},
     "outputs": []
    },
    {
     "cell_type": "code",
     "collapsed": false,
     "input": [
      "def setupplot(secondax=False, **kwargs):\n",
      "    ytickv = np.linspace(YR[0],YR[1],6)\n",
      "    yticknames = map('{:0.0f}'.format, ytickv)\n",
      "    tmp = dict(\n",
      "        ylabel='Temperature [c]',\n",
      "        yr=minmax(ytickv), ytickv=ytickv,\n",
      "        yticknames=yticknames,\n",
      "    )\n",
      "    tmp.update(kwargs)\n",
      "    ax = setup(**tmp)\n",
      "    \n",
      "    if secondax:\n",
      "        subplt = kwargs.get('subplt',None)\n",
      "        f = lambda x: '{:0.0f}'.format(1.8*x + 32.0)\n",
      "        yticknames = map(f, ytickv)\n",
      "        ax2 = ax.twinx()\n",
      "        ax2.set_ylabel(r\"Temperature [F]\")\n",
      "        ax2.set_ylim(minmax(ytickv))\n",
      "        ax2.yaxis.set_major_locator(matplotlib.ticker.FixedLocator(ytickv))\n",
      "        ax2.yaxis.set_major_formatter(matplotlib.ticker.FixedFormatter(yticknames))\n",
      "        pylab.sca(ax)\n",
      "    return ax"
     ],
     "language": "python",
     "metadata": {},
     "outputs": []
    },
    {
     "cell_type": "code",
     "collapsed": false,
     "input": [
      "def plot_temp():\n",
      "    setup(figsize=(12,6))\n",
      "\n",
      "    setupplot(subplt=(1,2,1), autoticks=True, xlabel='Date',)\n",
      "    pylab.plot(dates, values)\n",
      "    pylab.plot(dates[ii], values[ii], '.r')\n",
      "    pylab.plot(dates, continuum, '.k')\n",
      "    dateticks('%Y.%m.%d')\n",
      "    \n",
      "    \n",
      "    setupplot(subplt=(2,2,2), autoticks=False, xlabel='Hour of Day')\n",
      "    pylab.plot(tmp, values, '.')\n",
      "    setupplot(subplt=(2,2,2), ylabel='', secondax=True)\n",
      "    \n",
      "    setupplot(subplt=(2,2,4), autoticks=False, xlabel='Hour of Day')\n",
      "    sc = pylab.scatter(tmp, values-continuum+TNORM, \n",
      "                       c=date2num(dates)-np.min(date2num(dates)), s=15,\n",
      "                       marker='.', edgecolor='none',\n",
      "                       label='Days since Start')\n",
      "    \n",
      "    setupplot(subplt=(2,2,4), ylabel='', secondax=True)\n",
      "    hcolorbar(sc, axes=[0.6, 0.4, 0.1, 0.01])\n",
      "    \n",
      "    pylab.tight_layout()\n",
      "    pylab.show()\n",
      "plot_temp()"
     ],
     "language": "python",
     "metadata": {},
     "outputs": []
    },
    {
     "cell_type": "code",
     "collapsed": false,
     "input": [
      "now = datetime.now()\n",
      "start = date2num(now - timedelta(hours=48))\n",
      "jj = np.where(ndates > start)[0]\n",
      "print len(jj)\n",
      "\n",
      "setup(figsize=(6,6))\n",
      "# setupplot(secondax=True, title='Now:{}'.format(now))\n",
      "\n",
      "pylab.plot(ndates[jj], values[jj])  \n",
      "kk = np.where((continuum[jj] < 60) &\n",
      "              (continuum[jj] > 30) )[0]\n",
      "pylab.plot(ndates[jj[kk]], continuum[jj[kk]], '.k')\n",
      "# dateticks('%Y.%m.%d %H')\n",
      "# line(now+timedelta(hours=5)) # to gmt\n"
     ],
     "language": "python",
     "metadata": {},
     "outputs": []
    },
    {
     "cell_type": "code",
     "collapsed": false,
     "input": [
      "def plot_recent(delta=48):\n",
      "    '''plot the last delta [48] hrs'''\n",
      "    now = datetime.now()\n",
      "    start = date2num(now - timedelta(hours=delta))\n",
      "    jj = np.where(ndates > start)[0]\n",
      "    print len(jj)\n",
      "    \n",
      "    setup(figsize=(6,6), xr=minmax(ndates[jj]))\n",
      "    setupplot(secondax=True, title='Now:{}'.format(now))\n",
      "    \n",
      "    pylab.plot(dates, values)\n",
      "    pylab.plot(dates[ii], values[ii], '.r')\n",
      "    pylab.plot(dates, continuum, 'k')\n",
      "    dateticks('%Y.%m.%d %H')\n",
      "    line(now+timedelta(hours=5)) # to gmt\n",
      "\n",
      "plot_recent(256)"
     ],
     "language": "python",
     "metadata": {},
     "outputs": []
    },
    {
     "cell_type": "code",
     "collapsed": false,
     "input": [
      "def plot_recent(delta=48):\n",
      "    '''plot the last delta [48] hrs'''\n",
      "    now = datetime.now()\n",
      "    start = date2num(now - timedelta(hours=delta))\n",
      "    ii = np.where(ndates > start)[0]\n",
      "    print len(ii)\n",
      "    \n",
      "    setup(figsize=(6,6))\n",
      "#     setupplot(secondax=True, title='Now:{}'.format(now))\n",
      "    \n",
      "    \n",
      "    \n",
      "#     pylab.plot(dates[ii], values[ii])  \n",
      "    \n",
      "    nsmooth = 10\n",
      "    nend = nsmooth*2\n",
      "    svalues = np.convolve(np.ones(nsmooth)/nsmooth, values[ii], mode='same')\n",
      "    pylab.plot(dates[ii][nend:-nend], svalues[nend:-nend])  \n",
      "    \n",
      "#     kk = np.where( (continuum[ii] > 30) & (continuum[ii] < 100) )\n",
      "#     pylab.plot(dates[ii][kk], continuum[ii][kk], '.k')\n",
      "    dateticks('%Y.%m.%d')\n",
      "    line(now+timedelta(hours=5)) # to gmt\n",
      "\n",
      "plot_recent(256)"
     ],
     "language": "python",
     "metadata": {},
     "outputs": []
    },
    {
     "cell_type": "code",
     "collapsed": false,
     "input": [
      "tmp = np.genfromtxt('/Users/ajmendez/.uptime.xenon.log', delimiter='|',\n",
      "                    dtype=[np.int64,'S32', 'S96'])"
     ],
     "language": "python",
     "metadata": {},
     "outputs": []
    },
    {
     "cell_type": "code",
     "collapsed": false,
     "input": [
      "def get_5min(x):\n",
      "    try:\n",
      "        return float(x[2].split(',')[-3].split(' ')[-1])\n",
      "    except Exception as e:\n",
      "        print x[2]\n",
      "        raise\n",
      "        return None\n",
      "def get_date(x):\n",
      "    return datetime.fromtimestamp(x[0])\n",
      "# get_date(tmp[0])\n",
      "udate = map(get_date, tmp)\n",
      "uptime = map(get_5min, tmp)"
     ],
     "language": "python",
     "metadata": {},
     "outputs": []
    },
    {
     "cell_type": "code",
     "collapsed": false,
     "input": [
      "setup(figsize=(12,6), xr=minmax(udate), ylog=True )\n",
      "pylab.plot(udate, uptime)\n",
      "pylab.plot(dates, values)\n",
      "dateticks('%Y-%m-%d', rotation=90)"
     ],
     "language": "python",
     "metadata": {},
     "outputs": []
    },
    {
     "cell_type": "code",
     "collapsed": false,
     "input": [
      "print len(dates), len(udate)"
     ],
     "language": "python",
     "metadata": {},
     "outputs": []
    },
    {
     "cell_type": "code",
     "collapsed": false,
     "input": [
      "utemp = np.interp(date2num(udate), date2num(dates), values)\n"
     ],
     "language": "python",
     "metadata": {},
     "outputs": []
    },
    {
     "cell_type": "code",
     "collapsed": false,
     "input": [
      "setup(figsize=(12,12),\n",
      "      xlabel='Uptime', ylabel='Temperature[c]')\n",
      "c = date2num(udate)\n",
      "c -= np.min(c)\n",
      "\n",
      "# pylab.plot(uptime, utemp, '.')\n",
      "sc = pylab.scatter(uptime, utemp, c=c, edgecolor='none')\n",
      "_ = icolorbar(sc, loc=1)"
     ],
     "language": "python",
     "metadata": {},
     "outputs": []
    },
    {
     "cell_type": "code",
     "collapsed": false,
     "input": [],
     "language": "python",
     "metadata": {},
     "outputs": []
    }
   ],
   "metadata": {}
  }
 ]
}